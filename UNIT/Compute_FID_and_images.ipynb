{
  "nbformat": 4,
  "nbformat_minor": 0,
  "metadata": {
    "colab": {
      "name": "Compute_FID_and_images.ipynb",
      "provenance": [],
      "collapsed_sections": [
        "6ws9K8cy70X0"
      ],
      "toc_visible": true
    },
    "kernelspec": {
      "name": "python3",
      "display_name": "Python 3"
    },
    "language_info": {
      "name": "python"
    }
  },
  "cells": [
    {
      "cell_type": "code",
      "metadata": {
        "id": "fOwRBWco6xap"
      },
      "source": [
        "import pandas as pd\n",
        "import os\n",
        "from IPython.display import Image\n",
        "#import PIL.Image\n",
        "# from PIL import Image"
      ],
      "execution_count": null,
      "outputs": []
    },
    {
      "cell_type": "code",
      "metadata": {
        "colab": {
          "base_uri": "https://localhost:8080/"
        },
        "id": "qPb_8sgx474t",
        "outputId": "695bcdd2-8293-4dc8-f7e7-5eb28dd3252e"
      },
      "source": [
        "from google.colab import drive\n",
        "drive.mount('/content/drive', force_remount=True)\n"
      ],
      "execution_count": null,
      "outputs": [
        {
          "output_type": "stream",
          "text": [
            "Mounted at /content/drive\n"
          ],
          "name": "stdout"
        }
      ]
    },
    {
      "cell_type": "markdown",
      "metadata": {
        "id": "EP-SZdHwCR-r"
      },
      "source": [
        "### Compare FID scores"
      ]
    },
    {
      "cell_type": "code",
      "metadata": {
        "id": "mdg8GACP5u8e"
      },
      "source": [
        "summer2winter_dir = '/content/drive/MyDrive/CSC2516_Project/UNIT_summer2winter_small/results/FID.csv'\n",
        "monet2photo_dir = '/content/drive/MyDrive/CSC2516_Project/UNIT_monet2photo_small/results/FID.csv'\n",
        "cycleGAN_dir = '/content/drive/MyDrive/CSC2516_Project/CycleGAN FID.csv'"
      ],
      "execution_count": null,
      "outputs": []
    },
    {
      "cell_type": "code",
      "metadata": {
        "id": "6yGKi0qD6tfW"
      },
      "source": [
        "summer2winter_df = pd.read_csv(summer2winter_dir)\n",
        "monet2photo_df = pd.read_csv(monet2photo_dir)\n",
        "cycleGAN_df = pd.read_csv(cycleGAN_dir)"
      ],
      "execution_count": null,
      "outputs": []
    },
    {
      "cell_type": "code",
      "metadata": {
        "id": "eUGMS_uV649Q"
      },
      "source": [
        "# compute average translation and reconstruction scores\n",
        "summer2winter_df['avg_trans'] = (summer2winter_df['fid_val_A2B'] + summer2winter_df['fid_val_B2A'])/2\n",
        "summer2winter_df['avg_rec'] = (summer2winter_df['fid_val_B2A2B'] + summer2winter_df['fid_val_A2B2A'])/2\n",
        "\n",
        "monet2photo_df['avg_trans'] = (monet2photo_df['fid_val_A2B'] + monet2photo_df['fid_val_B2A'])/2\n",
        "monet2photo_df['avg_rec'] = (monet2photo_df['fid_val_B2A2B'] + monet2photo_df['fid_val_A2B2A'])/2"
      ],
      "execution_count": null,
      "outputs": []
    },
    {
      "cell_type": "code",
      "metadata": {
        "id": "9Vo9OsaG7ZlX"
      },
      "source": [
        "cycleGAN_df['avg_trans'] = (cycleGAN_df['fid_val_A2B'] + cycleGAN_df['fid_val_B2A'])/2\n",
        "cycleGAN_df['avg_rec'] = (cycleGAN_df['fid_val_B2A2B'] + cycleGAN_df['fid_val_A2B2A'])/2"
      ],
      "execution_count": null,
      "outputs": []
    },
    {
      "cell_type": "code",
      "metadata": {
        "colab": {
          "base_uri": "https://localhost:8080/",
          "height": 173
        },
        "id": "-S-I0LiM7eXc",
        "outputId": "e2e3de0c-bb73-4765-d3c9-79e7608c9dcb"
      },
      "source": [
        "cycleGAN_df.head()"
      ],
      "execution_count": null,
      "outputs": [
        {
          "output_type": "execute_result",
          "data": {
            "text/html": [
              "<div>\n",
              "<style scoped>\n",
              "    .dataframe tbody tr th:only-of-type {\n",
              "        vertical-align: middle;\n",
              "    }\n",
              "\n",
              "    .dataframe tbody tr th {\n",
              "        vertical-align: top;\n",
              "    }\n",
              "\n",
              "    .dataframe thead th {\n",
              "        text-align: right;\n",
              "    }\n",
              "</style>\n",
              "<table border=\"1\" class=\"dataframe\">\n",
              "  <thead>\n",
              "    <tr style=\"text-align: right;\">\n",
              "      <th></th>\n",
              "      <th>Dataset</th>\n",
              "      <th>learning rate</th>\n",
              "      <th>pool size</th>\n",
              "      <th>fid_val_A2B</th>\n",
              "      <th>fid_val_A2B2A</th>\n",
              "      <th>fid_val_B2A</th>\n",
              "      <th>fid_val_B2A2B</th>\n",
              "      <th>avg</th>\n",
              "      <th>avg_trans</th>\n",
              "      <th>avg_rec</th>\n",
              "    </tr>\n",
              "  </thead>\n",
              "  <tbody>\n",
              "    <tr>\n",
              "      <th>0</th>\n",
              "      <td>summer2winter</td>\n",
              "      <td>0.0002</td>\n",
              "      <td>50</td>\n",
              "      <td>132.9257</td>\n",
              "      <td>72.5935</td>\n",
              "      <td>121.8117</td>\n",
              "      <td>92.2051</td>\n",
              "      <td>104.884000</td>\n",
              "      <td>127.36870</td>\n",
              "      <td>82.39930</td>\n",
              "    </tr>\n",
              "    <tr>\n",
              "      <th>1</th>\n",
              "      <td>summer2winter</td>\n",
              "      <td>0.0002</td>\n",
              "      <td>100</td>\n",
              "      <td>136.0985</td>\n",
              "      <td>77.1768</td>\n",
              "      <td>122.5110</td>\n",
              "      <td>101.0474</td>\n",
              "      <td>109.208425</td>\n",
              "      <td>129.30475</td>\n",
              "      <td>89.11210</td>\n",
              "    </tr>\n",
              "    <tr>\n",
              "      <th>2</th>\n",
              "      <td>summer2winter</td>\n",
              "      <td>0.0005</td>\n",
              "      <td>50</td>\n",
              "      <td>136.9048</td>\n",
              "      <td>92.3511</td>\n",
              "      <td>130.4611</td>\n",
              "      <td>100.4857</td>\n",
              "      <td>115.050675</td>\n",
              "      <td>133.68295</td>\n",
              "      <td>96.41840</td>\n",
              "    </tr>\n",
              "    <tr>\n",
              "      <th>3</th>\n",
              "      <td>summer2winter</td>\n",
              "      <td>0.0005</td>\n",
              "      <td>100</td>\n",
              "      <td>140.9938</td>\n",
              "      <td>84.2100</td>\n",
              "      <td>247.5979</td>\n",
              "      <td>201.5429</td>\n",
              "      <td>168.586150</td>\n",
              "      <td>194.29585</td>\n",
              "      <td>142.87645</td>\n",
              "    </tr>\n",
              "  </tbody>\n",
              "</table>\n",
              "</div>"
            ],
            "text/plain": [
              "         Dataset  learning rate  pool size  ...         avg  avg_trans    avg_rec\n",
              "0  summer2winter         0.0002         50  ...  104.884000  127.36870   82.39930\n",
              "1  summer2winter         0.0002        100  ...  109.208425  129.30475   89.11210\n",
              "2  summer2winter         0.0005         50  ...  115.050675  133.68295   96.41840\n",
              "3  summer2winter         0.0005        100  ...  168.586150  194.29585  142.87645\n",
              "\n",
              "[4 rows x 10 columns]"
            ]
          },
          "metadata": {
            "tags": []
          },
          "execution_count": 69
        }
      ]
    },
    {
      "cell_type": "markdown",
      "metadata": {
        "id": "6ws9K8cy70X0"
      },
      "source": [
        "#### Evaluate average translation score"
      ]
    },
    {
      "cell_type": "code",
      "metadata": {
        "id": "BZ6CQI7lYyDl"
      },
      "source": [
        "import seaborn as sns\n",
        "import matplotlib.pyplot as plt"
      ],
      "execution_count": null,
      "outputs": []
    },
    {
      "cell_type": "code",
      "metadata": {
        "colab": {
          "base_uri": "https://localhost:8080/",
          "height": 204
        },
        "id": "EpONgb6r78Mi",
        "outputId": "fe8576cb-d5e6-40a1-cdb8-bcd1f6851bc5"
      },
      "source": [
        "summer2winter_df.sort_values(by=['avg_trans'],ascending=True).head()"
      ],
      "execution_count": null,
      "outputs": [
        {
          "output_type": "execute_result",
          "data": {
            "text/html": [
              "<div>\n",
              "<style scoped>\n",
              "    .dataframe tbody tr th:only-of-type {\n",
              "        vertical-align: middle;\n",
              "    }\n",
              "\n",
              "    .dataframe tbody tr th {\n",
              "        vertical-align: top;\n",
              "    }\n",
              "\n",
              "    .dataframe thead th {\n",
              "        text-align: right;\n",
              "    }\n",
              "</style>\n",
              "<table border=\"1\" class=\"dataframe\">\n",
              "  <thead>\n",
              "    <tr style=\"text-align: right;\">\n",
              "      <th></th>\n",
              "      <th>recon_kl_w</th>\n",
              "      <th>recon_kl_clc</th>\n",
              "      <th>lr_value</th>\n",
              "      <th>iteration</th>\n",
              "      <th>fid_val_A2B</th>\n",
              "      <th>fid_val_B2A</th>\n",
              "      <th>fid_val_B2A2B</th>\n",
              "      <th>fid_val_A2B2A</th>\n",
              "      <th>avg_trans</th>\n",
              "      <th>avg_rec</th>\n",
              "    </tr>\n",
              "  </thead>\n",
              "  <tbody>\n",
              "    <tr>\n",
              "      <th>22</th>\n",
              "      <td>0.01</td>\n",
              "      <td>0.1</td>\n",
              "      <td>0.0001</td>\n",
              "      <td>24000</td>\n",
              "      <td>120.848063</td>\n",
              "      <td>99.508113</td>\n",
              "      <td>118.158324</td>\n",
              "      <td>152.035385</td>\n",
              "      <td>110.178088</td>\n",
              "      <td>135.096854</td>\n",
              "    </tr>\n",
              "    <tr>\n",
              "      <th>12</th>\n",
              "      <td>0.10</td>\n",
              "      <td>0.1</td>\n",
              "      <td>0.0001</td>\n",
              "      <td>24000</td>\n",
              "      <td>115.592574</td>\n",
              "      <td>109.653557</td>\n",
              "      <td>126.822156</td>\n",
              "      <td>121.173855</td>\n",
              "      <td>112.623066</td>\n",
              "      <td>123.998006</td>\n",
              "    </tr>\n",
              "    <tr>\n",
              "      <th>13</th>\n",
              "      <td>0.10</td>\n",
              "      <td>0.1</td>\n",
              "      <td>0.0001</td>\n",
              "      <td>32000</td>\n",
              "      <td>108.835541</td>\n",
              "      <td>117.752168</td>\n",
              "      <td>150.365012</td>\n",
              "      <td>126.715822</td>\n",
              "      <td>113.293855</td>\n",
              "      <td>138.540417</td>\n",
              "    </tr>\n",
              "    <tr>\n",
              "      <th>15</th>\n",
              "      <td>0.10</td>\n",
              "      <td>0.1</td>\n",
              "      <td>0.0001</td>\n",
              "      <td>48000</td>\n",
              "      <td>123.092077</td>\n",
              "      <td>105.182025</td>\n",
              "      <td>134.305879</td>\n",
              "      <td>154.121679</td>\n",
              "      <td>114.137051</td>\n",
              "      <td>144.213779</td>\n",
              "    </tr>\n",
              "    <tr>\n",
              "      <th>11</th>\n",
              "      <td>0.10</td>\n",
              "      <td>0.1</td>\n",
              "      <td>0.0001</td>\n",
              "      <td>16000</td>\n",
              "      <td>122.998143</td>\n",
              "      <td>105.996118</td>\n",
              "      <td>135.972327</td>\n",
              "      <td>151.154756</td>\n",
              "      <td>114.497130</td>\n",
              "      <td>143.563541</td>\n",
              "    </tr>\n",
              "  </tbody>\n",
              "</table>\n",
              "</div>"
            ],
            "text/plain": [
              "    recon_kl_w  recon_kl_clc  lr_value  ...  fid_val_A2B2A   avg_trans     avg_rec\n",
              "22        0.01           0.1    0.0001  ...     152.035385  110.178088  135.096854\n",
              "12        0.10           0.1    0.0001  ...     121.173855  112.623066  123.998006\n",
              "13        0.10           0.1    0.0001  ...     126.715822  113.293855  138.540417\n",
              "15        0.10           0.1    0.0001  ...     154.121679  114.137051  144.213779\n",
              "11        0.10           0.1    0.0001  ...     151.154756  114.497130  143.563541\n",
              "\n",
              "[5 rows x 10 columns]"
            ]
          },
          "metadata": {
            "tags": []
          },
          "execution_count": 71
        }
      ]
    },
    {
      "cell_type": "code",
      "metadata": {
        "id": "71mXnWIPX3uy"
      },
      "source": [
        "unit_summerwinter_df_plot = summer2winter_df[(summer2winter_df['iteration'] == 24000) & (summer2winter_df['recon_kl_w'] == summer2winter_df['recon_kl_clc'])][['recon_kl_w', 'avg_trans']]\n",
        "unit_summerwinter_df_plot['Dataset'] = 'summer2winter'"
      ],
      "execution_count": null,
      "outputs": []
    },
    {
      "cell_type": "code",
      "metadata": {
        "colab": {
          "base_uri": "https://localhost:8080/",
          "height": 111
        },
        "id": "SDwE6bNojhr2",
        "outputId": "b4bf77d8-31d8-4562-8a49-6a38e2e17165"
      },
      "source": [
        "unit_summerwinter_df_plot"
      ],
      "execution_count": null,
      "outputs": [
        {
          "output_type": "execute_result",
          "data": {
            "text/html": [
              "<div>\n",
              "<style scoped>\n",
              "    .dataframe tbody tr th:only-of-type {\n",
              "        vertical-align: middle;\n",
              "    }\n",
              "\n",
              "    .dataframe tbody tr th {\n",
              "        vertical-align: top;\n",
              "    }\n",
              "\n",
              "    .dataframe thead th {\n",
              "        text-align: right;\n",
              "    }\n",
              "</style>\n",
              "<table border=\"1\" class=\"dataframe\">\n",
              "  <thead>\n",
              "    <tr style=\"text-align: right;\">\n",
              "      <th></th>\n",
              "      <th>recon_kl_w</th>\n",
              "      <th>avg_trans</th>\n",
              "      <th>Dataset</th>\n",
              "    </tr>\n",
              "  </thead>\n",
              "  <tbody>\n",
              "    <tr>\n",
              "      <th>2</th>\n",
              "      <td>0.01</td>\n",
              "      <td>129.933339</td>\n",
              "      <td>summer2winter</td>\n",
              "    </tr>\n",
              "    <tr>\n",
              "      <th>12</th>\n",
              "      <td>0.10</td>\n",
              "      <td>112.623066</td>\n",
              "      <td>summer2winter</td>\n",
              "    </tr>\n",
              "  </tbody>\n",
              "</table>\n",
              "</div>"
            ],
            "text/plain": [
              "    recon_kl_w   avg_trans        Dataset\n",
              "2         0.01  129.933339  summer2winter\n",
              "12        0.10  112.623066  summer2winter"
            ]
          },
          "metadata": {
            "tags": []
          },
          "execution_count": 79
        }
      ]
    },
    {
      "cell_type": "code",
      "metadata": {
        "colab": {
          "base_uri": "https://localhost:8080/",
          "height": 111
        },
        "id": "lxHAXYUYtEq8",
        "outputId": "ec08e452-0193-4da8-ae7c-a52e3328171a"
      },
      "source": [
        "monet2photo_df.sort_values(by=['avg_trans'],ascending=True).head(2)"
      ],
      "execution_count": null,
      "outputs": [
        {
          "output_type": "execute_result",
          "data": {
            "text/html": [
              "<div>\n",
              "<style scoped>\n",
              "    .dataframe tbody tr th:only-of-type {\n",
              "        vertical-align: middle;\n",
              "    }\n",
              "\n",
              "    .dataframe tbody tr th {\n",
              "        vertical-align: top;\n",
              "    }\n",
              "\n",
              "    .dataframe thead th {\n",
              "        text-align: right;\n",
              "    }\n",
              "</style>\n",
              "<table border=\"1\" class=\"dataframe\">\n",
              "  <thead>\n",
              "    <tr style=\"text-align: right;\">\n",
              "      <th></th>\n",
              "      <th>recon_kl_w</th>\n",
              "      <th>recon_kl_clc</th>\n",
              "      <th>lr_value</th>\n",
              "      <th>iteration</th>\n",
              "      <th>fid_val_A2B</th>\n",
              "      <th>fid_val_A2B2A</th>\n",
              "      <th>fid_val_B2A</th>\n",
              "      <th>fid_val_B2A2B</th>\n",
              "      <th>avg_trans</th>\n",
              "      <th>avg_rec</th>\n",
              "    </tr>\n",
              "  </thead>\n",
              "  <tbody>\n",
              "    <tr>\n",
              "      <th>65</th>\n",
              "      <td>0.01</td>\n",
              "      <td>0.01</td>\n",
              "      <td>0.0001</td>\n",
              "      <td>48000</td>\n",
              "      <td>209.276862</td>\n",
              "      <td>225.306385</td>\n",
              "      <td>156.551483</td>\n",
              "      <td>262.637630</td>\n",
              "      <td>182.914173</td>\n",
              "      <td>243.972007</td>\n",
              "    </tr>\n",
              "    <tr>\n",
              "      <th>68</th>\n",
              "      <td>0.01</td>\n",
              "      <td>0.01</td>\n",
              "      <td>0.0001</td>\n",
              "      <td>72000</td>\n",
              "      <td>210.984037</td>\n",
              "      <td>227.811789</td>\n",
              "      <td>160.267377</td>\n",
              "      <td>265.727079</td>\n",
              "      <td>185.625707</td>\n",
              "      <td>246.769434</td>\n",
              "    </tr>\n",
              "  </tbody>\n",
              "</table>\n",
              "</div>"
            ],
            "text/plain": [
              "    recon_kl_w  recon_kl_clc  lr_value  ...  fid_val_B2A2B   avg_trans     avg_rec\n",
              "65        0.01          0.01    0.0001  ...     262.637630  182.914173  243.972007\n",
              "68        0.01          0.01    0.0001  ...     265.727079  185.625707  246.769434\n",
              "\n",
              "[2 rows x 10 columns]"
            ]
          },
          "metadata": {
            "tags": []
          },
          "execution_count": 80
        }
      ]
    },
    {
      "cell_type": "code",
      "metadata": {
        "id": "sgtW1SYHc7NF"
      },
      "source": [
        "df_plot = monet2photo_df[(monet2photo_df['iteration'] == 48000) & (monet2photo_df['lr_value']  == 0.0001)][['recon_kl_w', 'avg_trans']]\n",
        "unit_monet2photo_df_plot = df_plot.drop_duplicates().drop(labels=[5,15], axis=0)\n",
        "unit_monet2photo_df_plot['Dataset'] = 'monet2photo'"
      ],
      "execution_count": null,
      "outputs": []
    },
    {
      "cell_type": "code",
      "metadata": {
        "id": "Z5H1_q3rlXJI"
      },
      "source": [
        "unit_df_plot = unit_summerwinter_df_plot.append(unit_monet2photo_df_plot)"
      ],
      "execution_count": null,
      "outputs": []
    },
    {
      "cell_type": "code",
      "metadata": {
        "colab": {
          "base_uri": "https://localhost:8080/",
          "height": 173
        },
        "id": "lYfbWZYblbLa",
        "outputId": "3bfeb55e-0dcd-4456-8182-6dd8502a662e"
      },
      "source": [
        "unit_df_plot"
      ],
      "execution_count": null,
      "outputs": [
        {
          "output_type": "execute_result",
          "data": {
            "text/html": [
              "<div>\n",
              "<style scoped>\n",
              "    .dataframe tbody tr th:only-of-type {\n",
              "        vertical-align: middle;\n",
              "    }\n",
              "\n",
              "    .dataframe tbody tr th {\n",
              "        vertical-align: top;\n",
              "    }\n",
              "\n",
              "    .dataframe thead th {\n",
              "        text-align: right;\n",
              "    }\n",
              "</style>\n",
              "<table border=\"1\" class=\"dataframe\">\n",
              "  <thead>\n",
              "    <tr style=\"text-align: right;\">\n",
              "      <th></th>\n",
              "      <th>recon_kl_w</th>\n",
              "      <th>avg_trans</th>\n",
              "      <th>Dataset</th>\n",
              "    </tr>\n",
              "  </thead>\n",
              "  <tbody>\n",
              "    <tr>\n",
              "      <th>2</th>\n",
              "      <td>0.01</td>\n",
              "      <td>129.933339</td>\n",
              "      <td>summer2winter</td>\n",
              "    </tr>\n",
              "    <tr>\n",
              "      <th>12</th>\n",
              "      <td>0.10</td>\n",
              "      <td>112.623066</td>\n",
              "      <td>summer2winter</td>\n",
              "    </tr>\n",
              "    <tr>\n",
              "      <th>65</th>\n",
              "      <td>0.01</td>\n",
              "      <td>182.914173</td>\n",
              "      <td>monet2photo</td>\n",
              "    </tr>\n",
              "    <tr>\n",
              "      <th>75</th>\n",
              "      <td>0.10</td>\n",
              "      <td>191.027081</td>\n",
              "      <td>monet2photo</td>\n",
              "    </tr>\n",
              "  </tbody>\n",
              "</table>\n",
              "</div>"
            ],
            "text/plain": [
              "    recon_kl_w   avg_trans        Dataset\n",
              "2         0.01  129.933339  summer2winter\n",
              "12        0.10  112.623066  summer2winter\n",
              "65        0.01  182.914173    monet2photo\n",
              "75        0.10  191.027081    monet2photo"
            ]
          },
          "metadata": {
            "tags": []
          },
          "execution_count": 109
        }
      ]
    },
    {
      "cell_type": "code",
      "metadata": {
        "colab": {
          "base_uri": "https://localhost:8080/",
          "height": 297
        },
        "id": "izcJYAWec_uZ",
        "outputId": "2940e48a-cba7-4f4d-d1e3-b3e832bfdc09"
      },
      "source": [
        "sns.scatterplot(data = unit_df_plot, x=\"recon_kl_w\", y=\"avg_trans\", hue=\"Dataset\", style=\"Dataset\",\n",
        "                palette=\"flare\", markers=True)\n",
        "plt.legend(bbox_to_anchor=(1.05, 1), loc=2, borderaxespad=0.)"
      ],
      "execution_count": null,
      "outputs": [
        {
          "output_type": "execute_result",
          "data": {
            "text/plain": [
              "<matplotlib.legend.Legend at 0x7faec77e8dd0>"
            ]
          },
          "metadata": {
            "tags": []
          },
          "execution_count": 117
        },
        {
          "output_type": "display_data",
          "data": {
            "image/png": "[encoded data removed]",
            "text/plain": [
              "<Figure size 432x288 with 1 Axes>"
            ]
          },
          "metadata": {
            "tags": [],
            "needs_background": "light"
          }
        }
      ]
    },
    {
      "cell_type": "code",
      "metadata": {
        "id": "mkmSCNGHjqfj"
      },
      "source": [
        "sns.scatterplot(data = unit_summerwinter_df_plot, x=\"recon_kl_w\", y=\"avg_trans\", palette=\"flare\", markers=True)"
      ],
      "execution_count": null,
      "outputs": []
    },
    {
      "cell_type": "markdown",
      "metadata": {
        "id": "c_vfggc5jrUd"
      },
      "source": [
        "#### CycleGAN"
      ]
    },
    {
      "cell_type": "code",
      "metadata": {
        "colab": {
          "base_uri": "https://localhost:8080/",
          "height": 111
        },
        "id": "k_RlATfTtjok",
        "outputId": "3be3eb75-721a-464e-c8dc-ca9285dea115"
      },
      "source": [
        "cycleGAN_df[cycleGAN_df['Dataset'] == 'summer2winter'].sort_values(by=['avg_trans'],ascending=True).head(2)"
      ],
      "execution_count": null,
      "outputs": [
        {
          "output_type": "execute_result",
          "data": {
            "text/html": [
              "<div>\n",
              "<style scoped>\n",
              "    .dataframe tbody tr th:only-of-type {\n",
              "        vertical-align: middle;\n",
              "    }\n",
              "\n",
              "    .dataframe tbody tr th {\n",
              "        vertical-align: top;\n",
              "    }\n",
              "\n",
              "    .dataframe thead th {\n",
              "        text-align: right;\n",
              "    }\n",
              "</style>\n",
              "<table border=\"1\" class=\"dataframe\">\n",
              "  <thead>\n",
              "    <tr style=\"text-align: right;\">\n",
              "      <th></th>\n",
              "      <th>Dataset</th>\n",
              "      <th>learning rate</th>\n",
              "      <th>pool size</th>\n",
              "      <th>fid_val_A2B</th>\n",
              "      <th>fid_val_A2B2A</th>\n",
              "      <th>fid_val_B2A</th>\n",
              "      <th>fid_val_B2A2B</th>\n",
              "      <th>avg</th>\n",
              "      <th>avg_trans</th>\n",
              "      <th>avg_rec</th>\n",
              "    </tr>\n",
              "  </thead>\n",
              "  <tbody>\n",
              "    <tr>\n",
              "      <th>0</th>\n",
              "      <td>summer2winter</td>\n",
              "      <td>0.0002</td>\n",
              "      <td>50</td>\n",
              "      <td>132.9257</td>\n",
              "      <td>72.5935</td>\n",
              "      <td>121.8117</td>\n",
              "      <td>92.2051</td>\n",
              "      <td>104.884000</td>\n",
              "      <td>127.36870</td>\n",
              "      <td>82.3993</td>\n",
              "    </tr>\n",
              "    <tr>\n",
              "      <th>1</th>\n",
              "      <td>summer2winter</td>\n",
              "      <td>0.0002</td>\n",
              "      <td>100</td>\n",
              "      <td>136.0985</td>\n",
              "      <td>77.1768</td>\n",
              "      <td>122.5110</td>\n",
              "      <td>101.0474</td>\n",
              "      <td>109.208425</td>\n",
              "      <td>129.30475</td>\n",
              "      <td>89.1121</td>\n",
              "    </tr>\n",
              "  </tbody>\n",
              "</table>\n",
              "</div>"
            ],
            "text/plain": [
              "         Dataset  learning rate  pool size  ...         avg  avg_trans  avg_rec\n",
              "0  summer2winter         0.0002         50  ...  104.884000  127.36870  82.3993\n",
              "1  summer2winter         0.0002        100  ...  109.208425  129.30475  89.1121\n",
              "\n",
              "[2 rows x 10 columns]"
            ]
          },
          "metadata": {
            "tags": []
          },
          "execution_count": 60
        }
      ]
    },
    {
      "cell_type": "code",
      "metadata": {
        "colab": {
          "base_uri": "https://localhost:8080/",
          "height": 173
        },
        "id": "CX8oLzjTbnNh",
        "outputId": "023a60c2-f923-4b76-f570-cb11c1846375"
      },
      "source": [
        "cycleGAN_df[cycleGAN_df['Dataset'] == 'summer2winter']"
      ],
      "execution_count": null,
      "outputs": [
        {
          "output_type": "execute_result",
          "data": {
            "text/html": [
              "<div>\n",
              "<style scoped>\n",
              "    .dataframe tbody tr th:only-of-type {\n",
              "        vertical-align: middle;\n",
              "    }\n",
              "\n",
              "    .dataframe tbody tr th {\n",
              "        vertical-align: top;\n",
              "    }\n",
              "\n",
              "    .dataframe thead th {\n",
              "        text-align: right;\n",
              "    }\n",
              "</style>\n",
              "<table border=\"1\" class=\"dataframe\">\n",
              "  <thead>\n",
              "    <tr style=\"text-align: right;\">\n",
              "      <th></th>\n",
              "      <th>Dataset</th>\n",
              "      <th>learning rate</th>\n",
              "      <th>pool size</th>\n",
              "      <th>fid_val_A2B</th>\n",
              "      <th>fid_val_A2B2A</th>\n",
              "      <th>fid_val_B2A</th>\n",
              "      <th>fid_val_B2A2B</th>\n",
              "      <th>avg</th>\n",
              "      <th>avg_trans</th>\n",
              "      <th>avg_rec</th>\n",
              "    </tr>\n",
              "  </thead>\n",
              "  <tbody>\n",
              "    <tr>\n",
              "      <th>0</th>\n",
              "      <td>summer2winter</td>\n",
              "      <td>0.0002</td>\n",
              "      <td>50</td>\n",
              "      <td>132.9257</td>\n",
              "      <td>72.5935</td>\n",
              "      <td>121.8117</td>\n",
              "      <td>92.2051</td>\n",
              "      <td>104.884000</td>\n",
              "      <td>127.36870</td>\n",
              "      <td>82.39930</td>\n",
              "    </tr>\n",
              "    <tr>\n",
              "      <th>1</th>\n",
              "      <td>summer2winter</td>\n",
              "      <td>0.0002</td>\n",
              "      <td>100</td>\n",
              "      <td>136.0985</td>\n",
              "      <td>77.1768</td>\n",
              "      <td>122.5110</td>\n",
              "      <td>101.0474</td>\n",
              "      <td>109.208425</td>\n",
              "      <td>129.30475</td>\n",
              "      <td>89.11210</td>\n",
              "    </tr>\n",
              "    <tr>\n",
              "      <th>2</th>\n",
              "      <td>summer2winter</td>\n",
              "      <td>0.0005</td>\n",
              "      <td>50</td>\n",
              "      <td>136.9048</td>\n",
              "      <td>92.3511</td>\n",
              "      <td>130.4611</td>\n",
              "      <td>100.4857</td>\n",
              "      <td>115.050675</td>\n",
              "      <td>133.68295</td>\n",
              "      <td>96.41840</td>\n",
              "    </tr>\n",
              "    <tr>\n",
              "      <th>3</th>\n",
              "      <td>summer2winter</td>\n",
              "      <td>0.0005</td>\n",
              "      <td>100</td>\n",
              "      <td>140.9938</td>\n",
              "      <td>84.2100</td>\n",
              "      <td>247.5979</td>\n",
              "      <td>201.5429</td>\n",
              "      <td>168.586150</td>\n",
              "      <td>194.29585</td>\n",
              "      <td>142.87645</td>\n",
              "    </tr>\n",
              "  </tbody>\n",
              "</table>\n",
              "</div>"
            ],
            "text/plain": [
              "         Dataset  learning rate  pool size  ...         avg  avg_trans    avg_rec\n",
              "0  summer2winter         0.0002         50  ...  104.884000  127.36870   82.39930\n",
              "1  summer2winter         0.0002        100  ...  109.208425  129.30475   89.11210\n",
              "2  summer2winter         0.0005         50  ...  115.050675  133.68295   96.41840\n",
              "3  summer2winter         0.0005        100  ...  168.586150  194.29585  142.87645\n",
              "\n",
              "[4 rows x 10 columns]"
            ]
          },
          "metadata": {
            "tags": []
          },
          "execution_count": 61
        }
      ]
    },
    {
      "cell_type": "code",
      "metadata": {
        "id": "2A1JtmVXf-m5"
      },
      "source": [
        "cycle_summer2winter_df_plot = cycleGAN_df[cycleGAN_df['Dataset'] == 'summer2winter']"
      ],
      "execution_count": null,
      "outputs": []
    },
    {
      "cell_type": "code",
      "metadata": {
        "colab": {
          "base_uri": "https://localhost:8080/",
          "height": 49
        },
        "id": "MyuRLNbWwqCH",
        "outputId": "737a6981-6e7a-4a7a-d35c-39c18efb3e3d"
      },
      "source": [
        "cycleGAN_df[cycleGAN_df['Dataset'] == 'monet2photo'].sort_values(by=['avg_trans'],ascending=True).head(2)"
      ],
      "execution_count": null,
      "outputs": [
        {
          "output_type": "execute_result",
          "data": {
            "text/html": [
              "<div>\n",
              "<style scoped>\n",
              "    .dataframe tbody tr th:only-of-type {\n",
              "        vertical-align: middle;\n",
              "    }\n",
              "\n",
              "    .dataframe tbody tr th {\n",
              "        vertical-align: top;\n",
              "    }\n",
              "\n",
              "    .dataframe thead th {\n",
              "        text-align: right;\n",
              "    }\n",
              "</style>\n",
              "<table border=\"1\" class=\"dataframe\">\n",
              "  <thead>\n",
              "    <tr style=\"text-align: right;\">\n",
              "      <th></th>\n",
              "      <th>Dataset</th>\n",
              "      <th>learning rate</th>\n",
              "      <th>pool size</th>\n",
              "      <th>fid_val_A2B</th>\n",
              "      <th>fid_val_A2B2A</th>\n",
              "      <th>fid_val_B2A</th>\n",
              "      <th>fid_val_B2A2B</th>\n",
              "      <th>avg</th>\n",
              "      <th>avg_trans</th>\n",
              "      <th>avg_rec</th>\n",
              "    </tr>\n",
              "  </thead>\n",
              "  <tbody>\n",
              "  </tbody>\n",
              "</table>\n",
              "</div>"
            ],
            "text/plain": [
              "Empty DataFrame\n",
              "Columns: [Dataset, learning rate, pool size, fid_val_A2B, fid_val_A2B2A, fid_val_B2A, fid_val_B2A2B, avg, avg_trans, avg_rec]\n",
              "Index: []"
            ]
          },
          "metadata": {
            "tags": []
          },
          "execution_count": 62
        }
      ]
    },
    {
      "cell_type": "markdown",
      "metadata": {
        "id": "WVMDISSdCUdD"
      },
      "source": [
        "### Compare image translation quality "
      ]
    },
    {
      "cell_type": "code",
      "metadata": {
        "id": "FGQ8QXX0CYQ6"
      },
      "source": [
        "summer2winter_cycleGAN_results = '/content/drive/MyDrive/results/s2w_cyclegan_lr_2_poolsize_50/'\n",
        "monet2photo_cycleGAN_results = '/content/drive/MyDrive/results/m2p_cyclegan_lr_2_poolsize_50/'\n",
        "summer2winter_UNIT_results = '/content/drive/MyDrive/CSC2516_Project/UNIT_summer2winter_small/results/'\n",
        "monet2photo_UNIT_results = '/content/drive/MyDrive/CSC2516_Project/UNIT_monet2photo_small/results/'\n",
        "summer2winter_A2B_save_path = '/content/drive/MyDrive/CSC2516_Project/summer2winter_qualitative/A2B/'\n",
        "summer2winter_B2A_save_path = '/content/drive/MyDrive/CSC2516_Project/summer2winter_qualitative/B2A/'\n",
        "monet2photo_A2B_save_path = '/content/drive/MyDrive/CSC2516_Project/monet2photo_qualitative/A2B/'\n",
        "monet2photo_B2A_save_path = '/content/drive/MyDrive/CSC2516_Project/monet2photo_qualitative/B2A/'\n",
        "\n",
        "summer2winter_UNIT_folder_name ='/kl_w_0.01kl_clc_0.1_lr_valie_0.0001/'\n",
        "monet2photo_UNIT_folder_name ='/kl_w_0.01kl_clc_0.01_lr_valie_0.0001/'\n",
        "cycleGAN_folder_lists = ['fake_A', 'fake_B']\n",
        "UNIT_folder_lists = ['A2B','B2A']"
      ],
      "execution_count": null,
      "outputs": []
    },
    {
      "cell_type": "code",
      "metadata": {
        "id": "4wkG4z6aRl1U"
      },
      "source": [
        "def merge_images(real_img, cycle_img, unit_img):\n",
        "  new_image = Image.new('RGB',(128, 3*128), (128,128,128))\n",
        "  new_image.paste(real_img,(0,0))\n",
        "  new_image.paste(cycle_img,(0,128))\n",
        "  new_image.paste(unit_img, (0,256))\n",
        "  return new_image"
      ],
      "execution_count": null,
      "outputs": []
    },
    {
      "cell_type": "markdown",
      "metadata": {
        "id": "rAf0CrhsJHeq"
      },
      "source": [
        "#### <font color='green'>Summer2winter image comparisons</font>"
      ]
    },
    {
      "cell_type": "markdown",
      "metadata": {
        "id": "Qu6oOS_NJkOG"
      },
      "source": [
        "<font color='blue'>A2B comparisons</font>"
      ]
    },
    {
      "cell_type": "code",
      "metadata": {
        "id": "BSB_5bK9Jjo6"
      },
      "source": [
        "real_A = os.listdir(summer2winter_cycleGAN_results+'real_A')\n",
        "cycleGAN_image_list = os.listdir(summer2winter_cycleGAN_results+'fake_B')\n",
        "UNIT_image_list = os.listdir(summer2winter_UNIT_results+'A2B/'+summer2winter_UNIT_folder_name)"
      ],
      "execution_count": null,
      "outputs": []
    },
    {
      "cell_type": "code",
      "metadata": {
        "id": "6TmryPVQJ8_a"
      },
      "source": [
        "for imageA in real_A:\n",
        "  cycle_name = imageA.replace('real_A', 'fake_B')\n",
        "  unit_name = imageA.replace('_real_A', '').replace('png','jpg')\n",
        "  real_A_img = Image.open(summer2winter_cycleGAN_results+'real_A/' + imageA).resize((128, 128), Image.ANTIALIAS)  #.open\n",
        "  fake_B_cycleGAN = Image.open(summer2winter_cycleGAN_results+'fake_B/' + cycle_name).resize((128, 128), Image.ANTIALIAS)\n",
        "  fake_B_UNIT = Image.open(summer2winter_UNIT_results  + 'A2B' + UNIT_folder_name + unit_name).resize((128, 128), Image.ANTIALIAS)\n",
        "  \n",
        "  # merge the images:\n",
        "  new_image = merge_images(real_B_img, fake_B_cycleGAN, fake_B_UNIT)\n",
        "\n",
        "  # saving the image\n",
        "  new_image.save(summer2winter_A2B_save_path + unit_name,\"JPEG\")"
      ],
      "execution_count": null,
      "outputs": []
    },
    {
      "cell_type": "markdown",
      "metadata": {
        "id": "rABQ3bqVJmLP"
      },
      "source": [
        "<font color='blue'>B2A comparisons</font>"
      ]
    },
    {
      "cell_type": "code",
      "metadata": {
        "id": "k6mdRW7UVECz"
      },
      "source": [
        "real_B = os.listdir(summer2winter_cycleGAN_results+'real_B')\n",
        "cycleGAN_image_list = os.listdir(summer2winter_cycleGAN_results+'fake_A')\n",
        "UNIT_image_list = os.listdir(summer2winter_UNIT_results+'B2A/'+summer2winter_UNIT_folder_name)\n",
        "UNIT_image_list.sort()"
      ],
      "execution_count": null,
      "outputs": []
    },
    {
      "cell_type": "code",
      "metadata": {
        "id": "29ENdeCpVKkC"
      },
      "source": [
        "index = 0 \n",
        "for imageB in real_B:\n",
        "  cycle_name = imageB.replace('real_B', 'fake_A')\n",
        "  unit_name = UNIT_image_list[index] # imageB.replace('_real_B', '').replace('png','jpg')\n",
        "  real_B_img = Image.open(summer2winter_cycleGAN_results+'real_B/' + imageB).resize((128, 128), Image.ANTIALIAS)  #.open\n",
        "  fake_A_cycleGAN = Image.open(summer2winter_cycleGAN_results+'fake_A/' + cycle_name).resize((128, 128), Image.ANTIALIAS)\n",
        "  fake_A_UNIT = Image.open(summer2winter_UNIT_results  + 'B2A' + UNIT_folder_name + unit_name).resize((128, 128), Image.ANTIALIAS)\n",
        "  \n",
        "  # merge the images:\n",
        "  new_image = merge_images(real_B_img, fake_A_cycleGAN, fake_A_UNIT)\n",
        "\n",
        "  # saving the image\n",
        "  new_image.save(summer2winter_B2A_save_path + unit_name,\"JPEG\")\n",
        "\n",
        "  index+= 1"
      ],
      "execution_count": null,
      "outputs": []
    },
    {
      "cell_type": "markdown",
      "metadata": {
        "id": "96PqEFzHJJ1s"
      },
      "source": [
        "#### <font color='green'> monet2photo image comparisons </font>"
      ]
    },
    {
      "cell_type": "markdown",
      "metadata": {
        "id": "st1AEgaYZvmj"
      },
      "source": [
        "<font color='blue'>A2B comparisons</font>"
      ]
    },
    {
      "cell_type": "code",
      "metadata": {
        "id": "Jm605QCVJL7i"
      },
      "source": [
        "real_A = os.listdir(monet2photo_cycleGAN_results+'real_A')\n",
        "cycleGAN_image_list = os.listdir(monet2photo_cycleGAN_results+'fake_B')\n",
        "UNIT_image_list = os.listdir(monet2photo_UNIT_results+'A2B/'+monet2photo_UNIT_folder_name)"
      ],
      "execution_count": null,
      "outputs": []
    },
    {
      "cell_type": "code",
      "metadata": {
        "id": "aJADubRnZ0nA"
      },
      "source": [
        "for imageA in real_A:\n",
        "  cycle_name = imageA.replace('real_A', 'fake_B')\n",
        "  unit_name = imageA.replace('_real_A', '').replace('png','jpg')\n",
        "  real_A_img = Image.open(monet2photo_cycleGAN_results+'real_A/' + imageA).resize((128, 128), Image.ANTIALIAS)  #.open\n",
        "  fake_B_cycleGAN = Image.open(monet2photo_cycleGAN_results+'fake_B/' + cycle_name).resize((128, 128), Image.ANTIALIAS)\n",
        "  fake_B_UNIT = Image.open(monet2photo_UNIT_results  + 'A2B' + monet2photo_UNIT_folder_name + unit_name).resize((128, 128), Image.ANTIALIAS)\n",
        "  \n",
        "  # merge the images:\n",
        "  new_image = merge_images(real_A_img, fake_B_cycleGAN, fake_B_UNIT)\n",
        "\n",
        "  # saving the image\n",
        "  new_image.save(monet2photo_A2B_save_path + unit_name,\"JPEG\")"
      ],
      "execution_count": null,
      "outputs": []
    },
    {
      "cell_type": "markdown",
      "metadata": {
        "id": "FfkVnsy3Zwc1"
      },
      "source": [
        "<font color='blue'>B2A comparisons</font>"
      ]
    },
    {
      "cell_type": "code",
      "metadata": {
        "id": "cpMqDPrKcFVN"
      },
      "source": [
        "real_B = os.listdir(monet2photo_cycleGAN_results+'real_B')\n",
        "cycleGAN_image_list = os.listdir(monet2photo_cycleGAN_results+'fake_A')\n",
        "UNIT_image_list = os.listdir(monet2photo_UNIT_results+'B2A/'+monet2photo_UNIT_folder_name)\n",
        "UNIT_image_list.sort()"
      ],
      "execution_count": null,
      "outputs": []
    },
    {
      "cell_type": "code",
      "metadata": {
        "id": "GgmsAA-ScIQP"
      },
      "source": [
        "index = 0 \n",
        "for imageB in real_B:\n",
        "  cycle_name = imageB.replace('real_B', 'fake_A')\n",
        "  unit_name = UNIT_image_list[index] # imageB.replace('_real_B', '').replace('png','jpg')\n",
        "  real_B_img = Image.open(monet2photo_cycleGAN_results+'real_B/' + imageB).resize((128, 128), Image.ANTIALIAS)  #.open\n",
        "  fake_A_cycleGAN = Image.open(monet2photo_cycleGAN_results+'fake_A/' + cycle_name).resize((128, 128), Image.ANTIALIAS)\n",
        "  fake_A_UNIT = Image.open(monet2photo_UNIT_results  + 'B2A' + monet2photo_UNIT_folder_name + unit_name).resize((128, 128), Image.ANTIALIAS)\n",
        "  \n",
        "  # merge the images:\n",
        "  new_image = merge_images(real_B_img, fake_A_cycleGAN, fake_A_UNIT)\n",
        "\n",
        "  # saving the image\n",
        "  new_image.save(monet2photo_B2A_save_path + unit_name,\"JPEG\")\n",
        "\n",
        "  index+= 1"
      ],
      "execution_count": null,
      "outputs": []
    },
    {
      "cell_type": "code",
      "metadata": {
        "id": "VW5HBbmld_x8"
      },
      "source": [
        ""
      ],
      "execution_count": null,
      "outputs": []
    }
  ]
}